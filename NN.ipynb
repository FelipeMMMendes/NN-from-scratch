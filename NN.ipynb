{
 "cells": [
  {
   "cell_type": "markdown",
   "metadata": {},
   "source": [
    "## Implementando neurônios"
   ]
  },
  {
   "cell_type": "markdown",
   "metadata": {},
   "source": [
    "\n",
    "Vamos implementar o neurônio destacado\n",
    "\n",
    "![REDE NEURAL](https://i.imgur.com/eUu71E1.png)"
   ]
  },
  {
   "cell_type": "code",
   "execution_count": 3,
   "metadata": {},
   "outputs": [
    {
     "data": {
      "text/plain": [
       "2.3"
      ]
     },
     "execution_count": 3,
     "metadata": {},
     "output_type": "execute_result"
    }
   ],
   "source": [
    "#vamos supor que estamos fazendo um neurônio que esteja implementado no meio de uma rede neural, com conexões de entrada e saída nele.\n",
    "#nesse caso, todos os neurônios tem conexões com cada neurônio prévio a ele, vamos supor que tenham 3 neurônios conectados que estejam\n",
    "#dando entrada nesse neurônio que vamos fazer.\n",
    "\n",
    "#esses inputs são as saidas dos três neurônios previos\n",
    "inputs = [1, 2, 3]\n",
    "\n",
    "#cada input tem um peso associado a ele\n",
    "weights = [0.2, 0.8, -0.5]\n",
    "\n",
    "#cada neurônio tem um bias único, como estamos fazendo um único, neurônio, só há 1 bias\n",
    "bias = 2\n",
    "\n",
    "#a saida do neurônio é a soma dos produtos de cada dado de entrada com seu respectivo peso com o bias\n",
    "output = inputs[0]*weights[0] + inputs[1]*weights[1] + inputs[2]*weights[2] + bias\n",
    "\n",
    "output"
   ]
  },
  {
   "cell_type": "markdown",
   "metadata": {},
   "source": [
    "Nosso neurônio ficou com essa cara\n",
    "\n",
    "![NEURONIO](https://i.imgur.com/DB6FAYC.png)"
   ]
  },
  {
   "cell_type": "markdown",
   "metadata": {},
   "source": [
    " Agora vamos modelar um neurônio da camada de saída:\n",
    " \n",
    "![REDE NEURAL](https://i.imgur.com/NEByrWc.png)"
   ]
  },
  {
   "cell_type": "code",
   "execution_count": 4,
   "metadata": {},
   "outputs": [
    {
     "data": {
      "text/plain": [
       "4.8"
      ]
     },
     "execution_count": 4,
     "metadata": {},
     "output_type": "execute_result"
    }
   ],
   "source": [
    "#A mesma coisa do outro neurônio, a diferença é que agora o neurônio está tendo 4 entradas de uma camada oculta.\n",
    "\n",
    "#esses inputs são as saidas dos quatro neurônios previos\n",
    "inputs = [1, 2, 3, 2.5]\n",
    "\n",
    "#cada input tem um peso associado a ele\n",
    "weights = [0.2, 0.8, -0.5, 1.0]\n",
    "\n",
    "#cada neurônio tem um bias único\n",
    "bias = 2\n",
    "\n",
    "#a saida do neurônio é a soma dos produtos de cada dado de entrada com seu respectivo peso com o bias\n",
    "output = inputs[0]*weights[0] + inputs[1]*weights[1] + inputs[2]*weights[2] + inputs[3]*weights[3] + bias\n",
    "\n",
    "output"
   ]
  },
  {
   "cell_type": "markdown",
   "metadata": {},
   "source": [
    "Nosso neurônio ficou assim:\n",
    "\n",
    "![NEURONIO](https://i.imgur.com/HzH98wE.png)"
   ]
  },
  {
   "cell_type": "markdown",
   "metadata": {},
   "source": [
    "## Implementando camadas"
   ]
  },
  {
   "cell_type": "markdown",
   "metadata": {},
   "source": [
    "Vamos implementar a camada de saida:\n",
    "\n",
    "![REDE NEURAL](https://i.imgur.com/GDsbq06.png)"
   ]
  },
  {
   "cell_type": "code",
   "execution_count": 4,
   "metadata": {},
   "outputs": [
    {
     "name": "stdout",
     "output_type": "stream",
     "text": [
      "[4.8, 1.21, 2.385]\n"
     ]
    }
   ],
   "source": [
    "#Sao 3 neuronios de saida, note que cada um tem 4 entradas\n",
    "#A lógica dos neurônios continua sendo a mesma que já foi implementada.\n",
    "\n",
    "#esses inputs são as saidas dos quatro neurônios previos\n",
    "inputs = [1, 2, 3, 2.5]\n",
    "\n",
    "#cada input tem um peso associado a ele, como sao 3 neurônios, teremos 3 listas de pesos\n",
    "weights = [\n",
    "    [0.2, 0.8, -0.5, 1.0],\n",
    "    [0.5, -0.91, 0.26, -0.5],\n",
    "    [-0.26, -0.27, 0.17, 0.87]\n",
    "]\n",
    "\n",
    "#cada neurônio tem um bias único (menos os da camada de entrada, entao serao 3 biases)\n",
    "biases = [2, 3, 0.5]\n",
    "\n",
    "#a saida do neurônio é a soma dos produtos de cada dado de entrada com seu respectivo peso com o bias\n",
    "#saida = entrada * peso + bias \n",
    "\n",
    "#essa funcao percorre a lista de pesos e biases e nos retorna as saidas dos neuronios\n",
    "#resultado_camada é a lista em que vamos guardar o resultado de cada camada\n",
    "resultado_camada = []\n",
    "#o que o zip() faz é combinar duas listas em uma, formando uma lista de tuplas, \n",
    "#assim dá pra percorrer as duas listas paralelamente\n",
    "for peso_neuronio, bias_neuronio in zip(weights, biases):\n",
    "    #inicializa a saida do neuronio como 0\n",
    "    saida_neuronio = 0\n",
    "    #aqui de novo ele faz o zip, so que agora com os inputs do neuronio e o peso,\n",
    "    #que foi usado no zip acima \n",
    "    for entrada_neuronio, peso in zip(inputs, peso_neuronio):\n",
    "        #aqui fazemos o processo para calcular a saida do neuronio, multiplicando as \n",
    "        #entradas e seus respectivos pesos\n",
    "        saida_neuronio += entrada_neuronio*peso\n",
    "    #aqui ele pega o resultado da multiplicacao e soma com o bias do neuronio\n",
    "    saida_neuronio += bias_neuronio\n",
    "    #acrescenta a saida do neuronio na lista do resultado das camadas\n",
    "    resultado_camada.append(saida_neuronio)\n",
    "\n",
    "print(resultado_camada)    "
   ]
  },
  {
   "cell_type": "markdown",
   "metadata": {},
   "source": [
    "O primeiro neurônio ficou assim:\n",
    "\n",
    "![REDE NEURAL](https://i.imgur.com/Bi6fovb.png)\n",
    "\n",
    "![REDE NEURAL](https://i.imgur.com/TonkYba.png)"
   ]
  },
  {
   "cell_type": "markdown",
   "metadata": {},
   "source": [
    "### Usando o Dot Product"
   ]
  },
  {
   "cell_type": "markdown",
   "metadata": {},
   "source": [
    "#### Exemplo de uso em um único neurônio"
   ]
  },
  {
   "cell_type": "code",
   "execution_count": 5,
   "metadata": {},
   "outputs": [
    {
     "data": {
      "text/plain": [
       "4.8"
      ]
     },
     "execution_count": 5,
     "metadata": {},
     "output_type": "execute_result"
    }
   ],
   "source": [
    "#dot product é a função do numpy que faz multiplicação entre vetores\n",
    "import numpy as np\n",
    "\n",
    "#vamos simplificar para esse teste para um neurônio só\n",
    "inputs = [1, 2, 3, 2.5]\n",
    "weights = [0.2, 0.8, -0.5, 1.0]\n",
    "bias = 2\n",
    "\n",
    "#na função passamos o array A, depois o array B\n",
    "resultado = np.dot(inputs, weights) + bias\n",
    "\n",
    "resultado"
   ]
  },
  {
   "cell_type": "markdown",
   "metadata": {},
   "source": [
    "#### Exemplo de uso em uma camada"
   ]
  },
  {
   "cell_type": "code",
   "execution_count": 6,
   "metadata": {},
   "outputs": [
    {
     "data": {
      "text/plain": [
       "array([4.8  , 1.21 , 2.385])"
      ]
     },
     "execution_count": 6,
     "metadata": {},
     "output_type": "execute_result"
    }
   ],
   "source": [
    "import numpy as np\n",
    "\n",
    "inputs = [1, 2, 3, 2.5]\n",
    "\n",
    "weights = [\n",
    "    [0.2, 0.8, -0.5, 1.0],\n",
    "    [0.5, -0.91, 0.26, -0.5],\n",
    "    [-0.26, -0.27, 0.17, 0.87]\n",
    "]\n",
    "\n",
    "biases = [2, 3, 0.5]\n",
    "\n",
    "#A ORDEM QUE PASSAMOS ESSES ARRAY IMPORTA NESSE CASO,\n",
    "#O PRIMEIRO ELEMENTO QUE VC PASSA É A FORMA COMO O \n",
    "#RETORNO VAI SER INDEXADO,\n",
    "#COMO TEMOS TRÊS NEURÔNIOS, QUEREMOS QUE ELES \n",
    "#SEJAM INDEXADOS POR ESSES TRÊS SETS DE PESOS\n",
    "\n",
    "resultado = np.dot(weights, inputs) + biases\n",
    "\n",
    "resultado"
   ]
  }
 ],
 "metadata": {
  "kernelspec": {
   "display_name": "Python 3",
   "language": "python",
   "name": "python3"
  },
  "language_info": {
   "codemirror_mode": {
    "name": "ipython",
    "version": 3
   },
   "file_extension": ".py",
   "mimetype": "text/x-python",
   "name": "python",
   "nbconvert_exporter": "python",
   "pygments_lexer": "ipython3",
   "version": "3.11.9"
  }
 },
 "nbformat": 4,
 "nbformat_minor": 2
}
