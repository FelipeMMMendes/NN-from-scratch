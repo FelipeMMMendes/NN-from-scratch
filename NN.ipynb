{
 "cells": [
  {
   "cell_type": "markdown",
   "metadata": {},
   "source": [
    "## Implementando neurônios"
   ]
  },
  {
   "cell_type": "markdown",
   "metadata": {},
   "source": [
    "\n",
    "Vamos implementar o neurônio destacado\n",
    "\n",
    "![REDE NEURAL](https://i.imgur.com/eUu71E1.png)"
   ]
  },
  {
   "cell_type": "code",
   "execution_count": 3,
   "metadata": {},
   "outputs": [
    {
     "data": {
      "text/plain": [
       "2.3"
      ]
     },
     "execution_count": 3,
     "metadata": {},
     "output_type": "execute_result"
    }
   ],
   "source": [
    "#vamos supor que estamos fazendo um neurônio que esteja implementado no meio de uma rede neural, com conexões de entrada e saída nele.\n",
    "#nesse caso, todos os neurônios tem conexões com cada neurônio prévio a ele, vamos supor que tenham 3 neurônios conectados que estejam\n",
    "#dando entrada nesse neurônio que vamos fazer.\n",
    "\n",
    "#esses inputs são as saidas dos três neurônios previos\n",
    "inputs = [1, 2, 3]\n",
    "\n",
    "#cada input tem um peso associado a ele\n",
    "weights = [0.2, 0.8, -0.5]\n",
    "\n",
    "#cada neurônio tem um bias único, como estamos fazendo um único, neurônio, só há 1 bias\n",
    "bias = 2\n",
    "\n",
    "#a saida do neurônio é a soma dos produtos de cada dado de entrada com seu respectivo peso com o bias\n",
    "output = inputs[0]*weights[0] + inputs[1]*weights[1] + inputs[2]*weights[2] + bias\n",
    "\n",
    "output"
   ]
  },
  {
   "cell_type": "markdown",
   "metadata": {},
   "source": [
    "Nosso neurônio ficou com essa cara\n",
    "\n",
    "![NEURONIO](https://i.imgur.com/DB6FAYC.png)"
   ]
  },
  {
   "cell_type": "markdown",
   "metadata": {},
   "source": [
    " Agora vamos modelar um neurônio da camada de saída:\n",
    " \n",
    "![REDE NEURAL](https://i.imgur.com/NEByrWc.png)"
   ]
  },
  {
   "cell_type": "code",
   "execution_count": 4,
   "metadata": {},
   "outputs": [
    {
     "data": {
      "text/plain": [
       "4.8"
      ]
     },
     "execution_count": 4,
     "metadata": {},
     "output_type": "execute_result"
    }
   ],
   "source": [
    "#A mesma coisa do outro neurônio, a diferença é que agora o neurônio está tendo 4 entradas de uma camada oculta.\n",
    "\n",
    "#esses inputs são as saidas dos quatro neurônios previos\n",
    "inputs = [1, 2, 3, 2.5]\n",
    "\n",
    "#cada input tem um peso associado a ele\n",
    "weights = [0.2, 0.8, -0.5, 1.0]\n",
    "\n",
    "#cada neurônio tem um bias único\n",
    "bias = 2\n",
    "\n",
    "#a saida do neurônio é a soma dos produtos de cada dado de entrada com seu respectivo peso com o bias\n",
    "output = inputs[0]*weights[0] + inputs[1]*weights[1] + inputs[2]*weights[2] + inputs[3]*weights[3] + bias\n",
    "\n",
    "output"
   ]
  },
  {
   "cell_type": "markdown",
   "metadata": {},
   "source": [
    "Nosso neurônio ficou assim:\n",
    "\n",
    "![NEURONIO](https://i.imgur.com/HzH98wE.png)"
   ]
  },
  {
   "cell_type": "markdown",
   "metadata": {},
   "source": [
    "## Implementando camadas"
   ]
  },
  {
   "cell_type": "markdown",
   "metadata": {},
   "source": [
    "Vamos implementar a camada de saida:\n",
    "\n",
    "![REDE NEURAL](https://i.imgur.com/GDsbq06.png)"
   ]
  },
  {
   "cell_type": "code",
   "execution_count": 9,
   "metadata": {},
   "outputs": [
    {
     "name": "stdout",
     "output_type": "stream",
     "text": [
      "saida do neuronio 1: 4.8\n",
      "saida do neuronio 2: 1.21\n",
      "saida do neuronio 3: 2.385\n"
     ]
    }
   ],
   "source": [
    "#Sao 3 neuronios de saida, note que cada um tem 4 entradas\n",
    "#A lógica dos neurônios continua sendo a mesma que já foi implementada.\n",
    "\n",
    "#esses inputs são as saidas dos quatro neurônios previos\n",
    "inputs = [1, 2, 3, 2.5]\n",
    "\n",
    "#cada input tem um peso associado a ele, como sao 3 neurônios, teremos 3 listas de pesos\n",
    "weights1 = [0.2, 0.8, -0.5, 1.0]\n",
    "weights2 = [0.5, -0.91, 0.26, -0.5]\n",
    "weights3 = [-0.26, -0.27, 0.17, 0.87]\n",
    "\n",
    "#cada neurônio tem um bias único\n",
    "bias1 = 2\n",
    "bias2 = 3\n",
    "bias3 = 0.5\n",
    "\n",
    "#a saida do neurônio é a soma dos produtos de cada dado de entrada com seu respectivo peso com o bias\n",
    "output = [inputs[0]*weights1[0] + inputs[1]*weights1[1] + inputs[2]*weights1[2] + inputs[3]*weights1[3] + bias1, \n",
    "          inputs[0]*weights2[0] + inputs[1]*weights2[1] + inputs[2]*weights2[2] + inputs[3]*weights2[3] + bias2,\n",
    "          inputs[0]*weights3[0] + inputs[1]*weights3[1] + inputs[2]*weights3[2] + inputs[3]*weights3[3] + bias3\n",
    "        ]\n",
    "\n",
    "for item in output:\n",
    "    print(f\"saida do neuronio {output.index(item)+1}: {item}\")"
   ]
  },
  {
   "cell_type": "markdown",
   "metadata": {},
   "source": [
    "O primeiro neurônio ficou assim:\n",
    "\n",
    "![REDE NEURAL](https://i.imgur.com/Bi6fovb.png)\n",
    "\n",
    "![REDE NEURAL](https://i.imgur.com/TonkYba.png)"
   ]
  }
 ],
 "metadata": {
  "kernelspec": {
   "display_name": "Python 3",
   "language": "python",
   "name": "python3"
  },
  "language_info": {
   "codemirror_mode": {
    "name": "ipython",
    "version": 3
   },
   "file_extension": ".py",
   "mimetype": "text/x-python",
   "name": "python",
   "nbconvert_exporter": "python",
   "pygments_lexer": "ipython3",
   "version": "3.11.9"
  }
 },
 "nbformat": 4,
 "nbformat_minor": 2
}
