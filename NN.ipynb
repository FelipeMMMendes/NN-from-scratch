{
 "cells": [
  {
   "cell_type": "markdown",
   "metadata": {},
   "source": [
    "## Implementando um único neurônio"
   ]
  },
  {
   "cell_type": "code",
   "execution_count": 2,
   "metadata": {},
   "outputs": [
    {
     "data": {
      "text/plain": [
       "35.7"
      ]
     },
     "execution_count": 2,
     "metadata": {},
     "output_type": "execute_result"
    }
   ],
   "source": [
    "#vamos supor que estamos fazendo um neurônio que esteja implementado no meio de uma rede neural, com conexões de entrada e saída nele.\n",
    "#nesse caso, todos os neurônios tem conexões com cada neurônio prévio a ele, vamos supor que tenham 3 neurônios conectados que estejam\n",
    "#dando entrada nesse neurônio que vamos fazer.\n",
    "\n",
    "#esses inputs são as saidas dos três neurônios previos\n",
    "inputs = [1.2,5.1,2.1]\n",
    "\n",
    "#cada input tem um peso associado a ele\n",
    "weights = [3.1,2.1,8.7]\n",
    "\n",
    "#cada neurônio tem um bias único\n",
    "bias = 3\n",
    "\n",
    "#a saida do neurônio é a soma dos produtos de cada dado de entrada com seu respectivo peso com o bias\n",
    "output = inputs[0]*weights[0] + inputs[1]*weights[1] + inputs[2]*weights[2] + bias\n",
    "\n",
    "output"
   ]
  }
 ],
 "metadata": {
  "kernelspec": {
   "display_name": "Python 3",
   "language": "python",
   "name": "python3"
  },
  "language_info": {
   "codemirror_mode": {
    "name": "ipython",
    "version": 3
   },
   "file_extension": ".py",
   "mimetype": "text/x-python",
   "name": "python",
   "nbconvert_exporter": "python",
   "pygments_lexer": "ipython3",
   "version": "3.11.9"
  }
 },
 "nbformat": 4,
 "nbformat_minor": 2
}
